{
 "cells": [
  {
   "cell_type": "code",
   "execution_count": 1,
   "metadata": {},
   "outputs": [
    {
     "name": "stderr",
     "output_type": "stream",
     "text": [
      "2024/05/26 13:45:21 WARNING mlflow.utils.autologging_utils: You are using an unsupported version of sklearn. If you encounter errors during autologging, try upgrading / downgrading sklearn to a supported version, or try upgrading MLflow.\n"
     ]
    }
   ],
   "source": [
    "import os\n",
    "import pickle\n",
    "import click\n",
    "import mlflow\n",
    "\n",
    "from mlflow.entities import ViewType\n",
    "from mlflow.tracking import MlflowClient\n",
    "from sklearn.ensemble import RandomForestRegressor\n",
    "from sklearn.metrics import mean_squared_error\n",
    "\n",
    "HPO_EXPERIMENT_NAME = \"random-forest-hyperopt-final\"\n",
    "EXPERIMENT_NAME = \"random-forest-best-models\"\n",
    "RF_PARAMS = ['max_depth', 'n_estimators', 'min_samples_split', 'min_samples_leaf', 'random_state']\n",
    "\n",
    "mlflow.set_tracking_uri(\"http://127.0.0.1:5000\")\n",
    "mlflow.set_experiment(EXPERIMENT_NAME)\n",
    "mlflow.sklearn.autolog()"
   ]
  },
  {
   "cell_type": "code",
   "execution_count": 2,
   "metadata": {},
   "outputs": [],
   "source": [
    "def load_pickle(filename):\n",
    "    with open(filename, \"rb\") as f_in:\n",
    "        return pickle.load(f_in)\n",
    "\n",
    "\n",
    "def train_and_log_model(data_path, params):\n",
    "    X_train, y_train = load_pickle(os.path.join(data_path, \"train.pkl\"))\n",
    "    X_val, y_val = load_pickle(os.path.join(data_path, \"val.pkl\"))\n",
    "    X_test, y_test = load_pickle(os.path.join(data_path, \"test.pkl\"))\n",
    "\n",
    "    with mlflow.start_run():\n",
    "        for param in RF_PARAMS:\n",
    "            params[param] = int(params[param])\n",
    "\n",
    "        rf = RandomForestRegressor(**params)\n",
    "        rf.fit(X_train, y_train)\n",
    "\n",
    "        # Evaluate model on the validation and test sets\n",
    "        val_rmse = mean_squared_error(y_val, rf.predict(X_val), squared=False)\n",
    "        mlflow.log_metric(\"val_rmse\", val_rmse)\n",
    "        test_rmse = mean_squared_error(y_test, rf.predict(X_test), squared=False)\n",
    "        mlflow.log_metric(\"test_rmse\", test_rmse)"
   ]
  },
  {
   "cell_type": "code",
   "execution_count": 3,
   "metadata": {},
   "outputs": [],
   "source": [
    "client = MlflowClient()\n",
    "\n",
    "# Retrieve the top_n model runs and log the models\n",
    "experiment = client.get_experiment_by_name(HPO_EXPERIMENT_NAME)\n",
    "runs = client.search_runs(\n",
    "    experiment_ids=experiment.experiment_id,\n",
    "    run_view_type=ViewType.ACTIVE_ONLY,\n",
    "    max_results=5,\n",
    "    order_by=[\"metrics.rmse ASC\"]\n",
    ")"
   ]
  },
  {
   "cell_type": "code",
   "execution_count": 4,
   "metadata": {},
   "outputs": [
    {
     "data": {
      "text/plain": [
       "[<Run: data=<RunData: metrics={'rmse': 5.335419588556921}, params={'max_depth': '19',\n",
       "  'min_samples_leaf': '2',\n",
       "  'min_samples_split': '2',\n",
       "  'n_estimators': '11',\n",
       "  'random_state': '42'}, tags={'mlflow.runName': 'wistful-stoat-569',\n",
       "  'mlflow.source.name': 'hpo.py',\n",
       "  'mlflow.source.type': 'LOCAL',\n",
       "  'mlflow.user': 'abhis',\n",
       "  'model': 'randomforestregressor'}>, info=<RunInfo: artifact_uri='mlflow-artifacts:/5/e74cf6951b784cc28f96df384f76291c/artifacts', end_time=1716681279330, experiment_id='5', lifecycle_stage='active', run_id='e74cf6951b784cc28f96df384f76291c', run_name='wistful-stoat-569', run_uuid='e74cf6951b784cc28f96df384f76291c', start_time=1716681274997, status='FINISHED', user_id='abhis'>, inputs=<RunInputs: dataset_inputs=[]>>,\n",
       " <Run: data=<RunData: metrics={'rmse': 5.354695072530291}, params={'max_depth': '15',\n",
       "  'min_samples_leaf': '2',\n",
       "  'min_samples_split': '3',\n",
       "  'n_estimators': '40',\n",
       "  'random_state': '42'}, tags={'mlflow.runName': 'sneaky-seal-102',\n",
       "  'mlflow.source.name': 'hpo.py',\n",
       "  'mlflow.source.type': 'LOCAL',\n",
       "  'mlflow.user': 'abhis',\n",
       "  'model': 'randomforestregressor'}>, info=<RunInfo: artifact_uri='mlflow-artifacts:/5/25b702cda64d42ce922f6ce8570646f3/artifacts', end_time=1716681249999, experiment_id='5', lifecycle_stage='active', run_id='25b702cda64d42ce922f6ce8570646f3', run_name='sneaky-seal-102', run_uuid='25b702cda64d42ce922f6ce8570646f3', start_time=1716681238815, status='FINISHED', user_id='abhis'>, inputs=<RunInputs: dataset_inputs=[]>>,\n",
       " <Run: data=<RunData: metrics={'rmse': 5.355041749098929}, params={'max_depth': '20',\n",
       "  'min_samples_leaf': '1',\n",
       "  'min_samples_split': '9',\n",
       "  'n_estimators': '19',\n",
       "  'random_state': '42'}, tags={'mlflow.runName': 'righteous-robin-249',\n",
       "  'mlflow.source.name': 'hpo.py',\n",
       "  'mlflow.source.type': 'LOCAL',\n",
       "  'mlflow.user': 'abhis',\n",
       "  'model': 'randomforestregressor'}>, info=<RunInfo: artifact_uri='mlflow-artifacts:/5/52fc5bc68b5d485b81eaf9ce540e3657/artifacts', end_time=1716681294753, experiment_id='5', lifecycle_stage='active', run_id='52fc5bc68b5d485b81eaf9ce540e3657', run_name='righteous-robin-249', run_uuid='52fc5bc68b5d485b81eaf9ce540e3657', start_time=1716681288350, status='FINISHED', user_id='abhis'>, inputs=<RunInputs: dataset_inputs=[]>>,\n",
       " <Run: data=<RunData: metrics={'rmse': 5.357490752366866}, params={'max_depth': '14',\n",
       "  'min_samples_leaf': '3',\n",
       "  'min_samples_split': '4',\n",
       "  'n_estimators': '26',\n",
       "  'random_state': '42'}, tags={'mlflow.runName': 'gifted-finch-795',\n",
       "  'mlflow.source.name': 'hpo.py',\n",
       "  'mlflow.source.type': 'LOCAL',\n",
       "  'mlflow.user': 'abhis',\n",
       "  'model': 'randomforestregressor'}>, info=<RunInfo: artifact_uri='mlflow-artifacts:/5/5f315af4698a4af5aba745258e0efe9c/artifacts', end_time=1716681235437, experiment_id='5', lifecycle_stage='active', run_id='5f315af4698a4af5aba745258e0efe9c', run_name='gifted-finch-795', run_uuid='5f315af4698a4af5aba745258e0efe9c', start_time=1716681228824, status='FINISHED', user_id='abhis'>, inputs=<RunInputs: dataset_inputs=[]>>,\n",
       " <Run: data=<RunData: metrics={'rmse': 5.3633599989832135}, params={'max_depth': '14',\n",
       "  'min_samples_leaf': '2',\n",
       "  'min_samples_split': '6',\n",
       "  'n_estimators': '23',\n",
       "  'random_state': '42'}, tags={'mlflow.runName': 'vaunted-koi-812',\n",
       "  'mlflow.source.name': 'hpo.py',\n",
       "  'mlflow.source.type': 'LOCAL',\n",
       "  'mlflow.user': 'abhis',\n",
       "  'model': 'randomforestregressor'}>, info=<RunInfo: artifact_uri='mlflow-artifacts:/5/1f2db76bcfb843f3a06ac65ccb2ff2a8/artifacts', end_time=1716681274986, experiment_id='5', lifecycle_stage='active', run_id='1f2db76bcfb843f3a06ac65ccb2ff2a8', run_name='vaunted-koi-812', run_uuid='1f2db76bcfb843f3a06ac65ccb2ff2a8', start_time=1716681269362, status='FINISHED', user_id='abhis'>, inputs=<RunInputs: dataset_inputs=[]>>]"
      ]
     },
     "execution_count": 4,
     "metadata": {},
     "output_type": "execute_result"
    }
   ],
   "source": [
    "runs"
   ]
  },
  {
   "cell_type": "code",
   "execution_count": 5,
   "metadata": {},
   "outputs": [
    {
     "name": "stderr",
     "output_type": "stream",
     "text": [
      "2024/05/26 13:45:24 WARNING mlflow.sklearn: Failed to log training dataset information to MLflow Tracking. Reason: 'numpy.ndarray' object has no attribute 'toarray'\n",
      "2024/05/26 13:45:38 WARNING mlflow.utils.autologging_utils: MLflow autologging encountered a warning: \"e:\\Anaconda3\\envs\\mlops\\Lib\\site-packages\\_distutils_hack\\__init__.py:26: UserWarning: Setuptools is replacing distutils.\"\n",
      "e:\\Anaconda3\\envs\\mlops\\Lib\\site-packages\\sklearn\\metrics\\_regression.py:492: FutureWarning: 'squared' is deprecated in version 1.4 and will be removed in 1.6. To calculate the root mean squared error, use the function'root_mean_squared_error'.\n",
      "  warnings.warn(\n",
      "e:\\Anaconda3\\envs\\mlops\\Lib\\site-packages\\sklearn\\metrics\\_regression.py:492: FutureWarning: 'squared' is deprecated in version 1.4 and will be removed in 1.6. To calculate the root mean squared error, use the function'root_mean_squared_error'.\n",
      "  warnings.warn(\n",
      "2024/05/26 13:45:46 WARNING mlflow.sklearn: Failed to log training dataset information to MLflow Tracking. Reason: 'numpy.ndarray' object has no attribute 'toarray'\n",
      "e:\\Anaconda3\\envs\\mlops\\Lib\\site-packages\\sklearn\\metrics\\_regression.py:492: FutureWarning: 'squared' is deprecated in version 1.4 and will be removed in 1.6. To calculate the root mean squared error, use the function'root_mean_squared_error'.\n",
      "  warnings.warn(\n",
      "e:\\Anaconda3\\envs\\mlops\\Lib\\site-packages\\sklearn\\metrics\\_regression.py:492: FutureWarning: 'squared' is deprecated in version 1.4 and will be removed in 1.6. To calculate the root mean squared error, use the function'root_mean_squared_error'.\n",
      "  warnings.warn(\n",
      "2024/05/26 13:46:11 WARNING mlflow.sklearn: Failed to log training dataset information to MLflow Tracking. Reason: 'numpy.ndarray' object has no attribute 'toarray'\n",
      "e:\\Anaconda3\\envs\\mlops\\Lib\\site-packages\\sklearn\\metrics\\_regression.py:492: FutureWarning: 'squared' is deprecated in version 1.4 and will be removed in 1.6. To calculate the root mean squared error, use the function'root_mean_squared_error'.\n",
      "  warnings.warn(\n",
      "e:\\Anaconda3\\envs\\mlops\\Lib\\site-packages\\sklearn\\metrics\\_regression.py:492: FutureWarning: 'squared' is deprecated in version 1.4 and will be removed in 1.6. To calculate the root mean squared error, use the function'root_mean_squared_error'.\n",
      "  warnings.warn(\n",
      "2024/05/26 13:46:29 WARNING mlflow.sklearn: Failed to log training dataset information to MLflow Tracking. Reason: 'numpy.ndarray' object has no attribute 'toarray'\n",
      "e:\\Anaconda3\\envs\\mlops\\Lib\\site-packages\\sklearn\\metrics\\_regression.py:492: FutureWarning: 'squared' is deprecated in version 1.4 and will be removed in 1.6. To calculate the root mean squared error, use the function'root_mean_squared_error'.\n",
      "  warnings.warn(\n",
      "e:\\Anaconda3\\envs\\mlops\\Lib\\site-packages\\sklearn\\metrics\\_regression.py:492: FutureWarning: 'squared' is deprecated in version 1.4 and will be removed in 1.6. To calculate the root mean squared error, use the function'root_mean_squared_error'.\n",
      "  warnings.warn(\n",
      "2024/05/26 13:46:49 WARNING mlflow.sklearn: Failed to log training dataset information to MLflow Tracking. Reason: 'numpy.ndarray' object has no attribute 'toarray'\n",
      "e:\\Anaconda3\\envs\\mlops\\Lib\\site-packages\\sklearn\\metrics\\_regression.py:492: FutureWarning: 'squared' is deprecated in version 1.4 and will be removed in 1.6. To calculate the root mean squared error, use the function'root_mean_squared_error'.\n",
      "  warnings.warn(\n",
      "e:\\Anaconda3\\envs\\mlops\\Lib\\site-packages\\sklearn\\metrics\\_regression.py:492: FutureWarning: 'squared' is deprecated in version 1.4 and will be removed in 1.6. To calculate the root mean squared error, use the function'root_mean_squared_error'.\n",
      "  warnings.warn(\n"
     ]
    }
   ],
   "source": [
    "for run in runs:\n",
    "    train_and_log_model(data_path=\"./output\", params=run.data.params)"
   ]
  },
  {
   "cell_type": "code",
   "execution_count": 7,
   "metadata": {},
   "outputs": [
    {
     "data": {
      "text/plain": [
       "{'max_depth': 14,\n",
       " 'n_estimators': 23,\n",
       " 'min_samples_split': 6,\n",
       " 'min_samples_leaf': 2,\n",
       " 'random_state': 42}"
      ]
     },
     "execution_count": 7,
     "metadata": {},
     "output_type": "execute_result"
    }
   ],
   "source": [
    "run.data.params"
   ]
  },
  {
   "cell_type": "code",
   "execution_count": 12,
   "metadata": {},
   "outputs": [],
   "source": [
    "best_run = runs[0]"
   ]
  },
  {
   "cell_type": "code",
   "execution_count": 13,
   "metadata": {},
   "outputs": [],
   "source": [
    "run_id = best_run.info.run_id"
   ]
  },
  {
   "cell_type": "code",
   "execution_count": 14,
   "metadata": {},
   "outputs": [
    {
     "data": {
      "text/plain": [
       "'e74cf6951b784cc28f96df384f76291c'"
      ]
     },
     "execution_count": 14,
     "metadata": {},
     "output_type": "execute_result"
    }
   ],
   "source": [
    "run_id"
   ]
  },
  {
   "cell_type": "code",
   "execution_count": 15,
   "metadata": {},
   "outputs": [
    {
     "name": "stderr",
     "output_type": "stream",
     "text": [
      "Registered model 'nyc-taxi-randomforestregressor ' already exists. Creating a new version of this model...\n",
      "2024/05/26 13:50:43 INFO mlflow.store.model_registry.abstract_store: Waiting up to 300 seconds for model version to finish creation. Model name: nyc-taxi-randomforestregressor , version 2\n",
      "Created version '2' of model 'nyc-taxi-randomforestregressor '.\n"
     ]
    },
    {
     "data": {
      "text/plain": [
       "<ModelVersion: aliases=[], creation_timestamp=1716745843338, current_stage='None', description='', last_updated_timestamp=1716745843338, name='nyc-taxi-randomforestregressor\\u2002', run_id='e74cf6951b784cc28f96df384f76291c', run_link='', source='mlflow-artifacts:/5/e74cf6951b784cc28f96df384f76291c/artifacts/model', status='READY', status_message='', tags={}, user_id='', version='2'>"
      ]
     },
     "execution_count": 15,
     "metadata": {},
     "output_type": "execute_result"
    }
   ],
   "source": [
    "model_uri = f\"runs:/{run_id}/model\"\n",
    "mlflow.register_model(model_uri= model_uri, name=\"nyc-taxi-randomforestregressor \" )"
   ]
  },
  {
   "cell_type": "code",
   "execution_count": null,
   "metadata": {},
   "outputs": [],
   "source": []
  }
 ],
 "metadata": {
  "kernelspec": {
   "display_name": "mlops",
   "language": "python",
   "name": "python3"
  },
  "language_info": {
   "codemirror_mode": {
    "name": "ipython",
    "version": 3
   },
   "file_extension": ".py",
   "mimetype": "text/x-python",
   "name": "python",
   "nbconvert_exporter": "python",
   "pygments_lexer": "ipython3",
   "version": "3.11.5"
  }
 },
 "nbformat": 4,
 "nbformat_minor": 2
}
